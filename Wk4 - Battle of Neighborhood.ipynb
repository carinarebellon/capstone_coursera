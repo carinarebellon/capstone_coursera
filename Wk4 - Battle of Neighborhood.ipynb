{
    "cells": [
        {
            "cell_type": "markdown",
            "metadata": {
                "collapsed": true
            },
            "source": "Capstone Project - The Battle of Neighborhoods (Week 1)"
        },
        {
            "cell_type": "markdown",
            "metadata": {},
            "source": "1. Introduction\nSingapore  has a diverse range of people and cultures. The Singaporean economy is known as one of the freest, most innovative, most competitive, most dynamic and most business-friend. \n\nTourism in Singapore is a major industry and contributor to the Singaporean economy, attracting 18.5 million international tourists in 2018, more than 3 times of Singapore's total population. Singapore is the 5th most visited city in the world, and 2nd in the Asia-Pacific. \n\nThis project will try to explore the neighborhoods of Singapore city to see:\n\u2022\twhat kind of surrounding venues, and to what extend, can effect the price of accommodation.\n\u2022\tif we can use the surrounding venue to estimate the value of an accommodation over the average price of one area? And to what degree of confidence?\nThe result can be useful for tourist who wanted to have a short term accommodation, who can find the right value of the accommodation in the city.\n"
        },
        {
            "cell_type": "markdown",
            "metadata": {},
            "source": "Data:"
        },
        {
            "cell_type": "markdown",
            "metadata": {},
            "source": "2.1. Data collection process:\n\nWe are going to use OpenCage Geocoder API to look up coordinates from a postal address. \nThis dataset had been created scraping a Wikipedia Table (available here -> https://en.wikipedia.org/wiki/Postal_codes_in_Singapore) with the data we need for the exercise.\n"
        },
        {
            "cell_type": "code",
            "execution_count": null,
            "metadata": {},
            "outputs": [],
            "source": ""
        }
    ],
    "metadata": {
        "kernelspec": {
            "display_name": "Python 3.6",
            "language": "python",
            "name": "python3"
        },
        "language_info": {
            "codemirror_mode": {
                "name": "ipython",
                "version": 3
            },
            "file_extension": ".py",
            "mimetype": "text/x-python",
            "name": "python",
            "nbconvert_exporter": "python",
            "pygments_lexer": "ipython3",
            "version": "3.6.9"
        }
    },
    "nbformat": 4,
    "nbformat_minor": 1
}